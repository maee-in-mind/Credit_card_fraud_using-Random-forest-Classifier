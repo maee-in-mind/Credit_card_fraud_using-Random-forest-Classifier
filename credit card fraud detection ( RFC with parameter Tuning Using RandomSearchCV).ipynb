{
 "cells": [
  {
   "cell_type": "code",
   "execution_count": 1,
   "metadata": {},
   "outputs": [
    {
     "data": {
      "text/html": [
       "<div>\n",
       "<style scoped>\n",
       "    .dataframe tbody tr th:only-of-type {\n",
       "        vertical-align: middle;\n",
       "    }\n",
       "\n",
       "    .dataframe tbody tr th {\n",
       "        vertical-align: top;\n",
       "    }\n",
       "\n",
       "    .dataframe thead th {\n",
       "        text-align: right;\n",
       "    }\n",
       "</style>\n",
       "<table border=\"1\" class=\"dataframe\">\n",
       "  <thead>\n",
       "    <tr style=\"text-align: right;\">\n",
       "      <th></th>\n",
       "      <th>Time</th>\n",
       "      <th>V1</th>\n",
       "      <th>V2</th>\n",
       "      <th>V3</th>\n",
       "      <th>V4</th>\n",
       "      <th>V5</th>\n",
       "      <th>V6</th>\n",
       "      <th>V7</th>\n",
       "      <th>V8</th>\n",
       "      <th>V9</th>\n",
       "      <th>...</th>\n",
       "      <th>V21</th>\n",
       "      <th>V22</th>\n",
       "      <th>V23</th>\n",
       "      <th>V24</th>\n",
       "      <th>V25</th>\n",
       "      <th>V26</th>\n",
       "      <th>V27</th>\n",
       "      <th>V28</th>\n",
       "      <th>Amount</th>\n",
       "      <th>Class</th>\n",
       "    </tr>\n",
       "  </thead>\n",
       "  <tbody>\n",
       "    <tr>\n",
       "      <th>0</th>\n",
       "      <td>0.0</td>\n",
       "      <td>-1.359807</td>\n",
       "      <td>-0.072781</td>\n",
       "      <td>2.536347</td>\n",
       "      <td>1.378155</td>\n",
       "      <td>-0.338321</td>\n",
       "      <td>0.462388</td>\n",
       "      <td>0.239599</td>\n",
       "      <td>0.098698</td>\n",
       "      <td>0.363787</td>\n",
       "      <td>...</td>\n",
       "      <td>-0.018307</td>\n",
       "      <td>0.277838</td>\n",
       "      <td>-0.110474</td>\n",
       "      <td>0.066928</td>\n",
       "      <td>0.128539</td>\n",
       "      <td>-0.189115</td>\n",
       "      <td>0.133558</td>\n",
       "      <td>-0.021053</td>\n",
       "      <td>149.62</td>\n",
       "      <td>0</td>\n",
       "    </tr>\n",
       "    <tr>\n",
       "      <th>1</th>\n",
       "      <td>0.0</td>\n",
       "      <td>1.191857</td>\n",
       "      <td>0.266151</td>\n",
       "      <td>0.166480</td>\n",
       "      <td>0.448154</td>\n",
       "      <td>0.060018</td>\n",
       "      <td>-0.082361</td>\n",
       "      <td>-0.078803</td>\n",
       "      <td>0.085102</td>\n",
       "      <td>-0.255425</td>\n",
       "      <td>...</td>\n",
       "      <td>-0.225775</td>\n",
       "      <td>-0.638672</td>\n",
       "      <td>0.101288</td>\n",
       "      <td>-0.339846</td>\n",
       "      <td>0.167170</td>\n",
       "      <td>0.125895</td>\n",
       "      <td>-0.008983</td>\n",
       "      <td>0.014724</td>\n",
       "      <td>2.69</td>\n",
       "      <td>0</td>\n",
       "    </tr>\n",
       "    <tr>\n",
       "      <th>2</th>\n",
       "      <td>1.0</td>\n",
       "      <td>-1.358354</td>\n",
       "      <td>-1.340163</td>\n",
       "      <td>1.773209</td>\n",
       "      <td>0.379780</td>\n",
       "      <td>-0.503198</td>\n",
       "      <td>1.800499</td>\n",
       "      <td>0.791461</td>\n",
       "      <td>0.247676</td>\n",
       "      <td>-1.514654</td>\n",
       "      <td>...</td>\n",
       "      <td>0.247998</td>\n",
       "      <td>0.771679</td>\n",
       "      <td>0.909412</td>\n",
       "      <td>-0.689281</td>\n",
       "      <td>-0.327642</td>\n",
       "      <td>-0.139097</td>\n",
       "      <td>-0.055353</td>\n",
       "      <td>-0.059752</td>\n",
       "      <td>378.66</td>\n",
       "      <td>0</td>\n",
       "    </tr>\n",
       "    <tr>\n",
       "      <th>3</th>\n",
       "      <td>1.0</td>\n",
       "      <td>-0.966272</td>\n",
       "      <td>-0.185226</td>\n",
       "      <td>1.792993</td>\n",
       "      <td>-0.863291</td>\n",
       "      <td>-0.010309</td>\n",
       "      <td>1.247203</td>\n",
       "      <td>0.237609</td>\n",
       "      <td>0.377436</td>\n",
       "      <td>-1.387024</td>\n",
       "      <td>...</td>\n",
       "      <td>-0.108300</td>\n",
       "      <td>0.005274</td>\n",
       "      <td>-0.190321</td>\n",
       "      <td>-1.175575</td>\n",
       "      <td>0.647376</td>\n",
       "      <td>-0.221929</td>\n",
       "      <td>0.062723</td>\n",
       "      <td>0.061458</td>\n",
       "      <td>123.50</td>\n",
       "      <td>0</td>\n",
       "    </tr>\n",
       "    <tr>\n",
       "      <th>4</th>\n",
       "      <td>2.0</td>\n",
       "      <td>-1.158233</td>\n",
       "      <td>0.877737</td>\n",
       "      <td>1.548718</td>\n",
       "      <td>0.403034</td>\n",
       "      <td>-0.407193</td>\n",
       "      <td>0.095921</td>\n",
       "      <td>0.592941</td>\n",
       "      <td>-0.270533</td>\n",
       "      <td>0.817739</td>\n",
       "      <td>...</td>\n",
       "      <td>-0.009431</td>\n",
       "      <td>0.798278</td>\n",
       "      <td>-0.137458</td>\n",
       "      <td>0.141267</td>\n",
       "      <td>-0.206010</td>\n",
       "      <td>0.502292</td>\n",
       "      <td>0.219422</td>\n",
       "      <td>0.215153</td>\n",
       "      <td>69.99</td>\n",
       "      <td>0</td>\n",
       "    </tr>\n",
       "  </tbody>\n",
       "</table>\n",
       "<p>5 rows × 31 columns</p>\n",
       "</div>"
      ],
      "text/plain": [
       "   Time        V1        V2        V3        V4        V5        V6        V7  \\\n",
       "0   0.0 -1.359807 -0.072781  2.536347  1.378155 -0.338321  0.462388  0.239599   \n",
       "1   0.0  1.191857  0.266151  0.166480  0.448154  0.060018 -0.082361 -0.078803   \n",
       "2   1.0 -1.358354 -1.340163  1.773209  0.379780 -0.503198  1.800499  0.791461   \n",
       "3   1.0 -0.966272 -0.185226  1.792993 -0.863291 -0.010309  1.247203  0.237609   \n",
       "4   2.0 -1.158233  0.877737  1.548718  0.403034 -0.407193  0.095921  0.592941   \n",
       "\n",
       "         V8        V9  ...         V21       V22       V23       V24  \\\n",
       "0  0.098698  0.363787  ...   -0.018307  0.277838 -0.110474  0.066928   \n",
       "1  0.085102 -0.255425  ...   -0.225775 -0.638672  0.101288 -0.339846   \n",
       "2  0.247676 -1.514654  ...    0.247998  0.771679  0.909412 -0.689281   \n",
       "3  0.377436 -1.387024  ...   -0.108300  0.005274 -0.190321 -1.175575   \n",
       "4 -0.270533  0.817739  ...   -0.009431  0.798278 -0.137458  0.141267   \n",
       "\n",
       "        V25       V26       V27       V28  Amount  Class  \n",
       "0  0.128539 -0.189115  0.133558 -0.021053  149.62      0  \n",
       "1  0.167170  0.125895 -0.008983  0.014724    2.69      0  \n",
       "2 -0.327642 -0.139097 -0.055353 -0.059752  378.66      0  \n",
       "3  0.647376 -0.221929  0.062723  0.061458  123.50      0  \n",
       "4 -0.206010  0.502292  0.219422  0.215153   69.99      0  \n",
       "\n",
       "[5 rows x 31 columns]"
      ]
     },
     "execution_count": 1,
     "metadata": {},
     "output_type": "execute_result"
    }
   ],
   "source": [
    "# import the necessary packages \n",
    "import numpy as np \n",
    "import pandas as pd \n",
    "import matplotlib.pyplot as plt \n",
    "data=pd.read_csv('creditcard.csv')\n",
    "\n",
    "data.head()"
   ]
  },
  {
   "cell_type": "code",
   "execution_count": 2,
   "metadata": {},
   "outputs": [
    {
     "name": "stdout",
     "output_type": "stream",
     "text": [
      "492\n"
     ]
    }
   ],
   "source": [
    "#finding the fraud cases (i.e. class=1)\n",
    "print(len(data[data[\"Class\"]==1]))"
   ]
  },
  {
   "cell_type": "code",
   "execution_count": 3,
   "metadata": {},
   "outputs": [],
   "source": [
    "# spliting dataset as features(x) and target(y)\n",
    "x=data.drop(['Class'],axis=1)\n",
    "x.shape\n",
    "y=data['Class']\n",
    "y.shape\n",
    "\n",
    "x_data=x.values\n",
    "y_data=y.values"
   ]
  },
  {
   "cell_type": "code",
   "execution_count": 4,
   "metadata": {},
   "outputs": [],
   "source": [
    "#split further for train test split\n",
    "from sklearn.model_selection import train_test_split as tts\n",
    "x_train,x_test,y_train,y_test=tts(x_data,y_data,test_size=0.25,random_state=0)"
   ]
  },
  {
   "cell_type": "code",
   "execution_count": 7,
   "metadata": {},
   "outputs": [],
   "source": [
    "#now apply model on this datasets\n",
    "from sklearn.ensemble import RandomForestClassifier\n",
    "RFC=RandomForestClassifier()\n",
    "\n",
    "from sklearn.model_selection import RandomizedSearchCV\n"
   ]
  },
  {
   "cell_type": "code",
   "execution_count": 10,
   "metadata": {},
   "outputs": [],
   "source": [
    "param={'n_estimators':[10,20,30,50,60,70,80,90,100], 'criterion':['gini','entropy'],\n",
    "       'max_depth':[None,1,2,3,4], 'min_samples_split':[2,3,4,5,6,7],\n",
    "       'min_samples_leaf':[1,2,4,3],'min_weight_fraction_leaf':[0.0,0.01,0.001,0.0001],\n",
    "       'max_features':['auto','sqrt','log2',None],\n",
    "       'max_leaf_nodes':[None,2,3,5,7,9],\n",
    "       'min_impurity_decrease':[0.0,0.1,0.01,0.02,0.001]}\n"
   ]
  },
  {
   "cell_type": "code",
   "execution_count": null,
   "metadata": {},
   "outputs": [],
   "source": []
  },
  {
   "cell_type": "code",
   "execution_count": 12,
   "metadata": {},
   "outputs": [],
   "source": [
    "RSCV=RandomizedSearchCV(estimator=RFC,param_distributions=param,cv=10,verbose=2)"
   ]
  },
  {
   "cell_type": "code",
   "execution_count": null,
   "metadata": {},
   "outputs": [],
   "source": []
  },
  {
   "cell_type": "code",
   "execution_count": 13,
   "metadata": {},
   "outputs": [
    {
     "name": "stdout",
     "output_type": "stream",
     "text": [
      "Fitting 10 folds for each of 10 candidates, totalling 100 fits\n",
      "[CV] n_estimators=10, min_weight_fraction_leaf=0.0001, min_samples_split=3, min_samples_leaf=3, min_impurity_decrease=0.1, max_leaf_nodes=5, max_features=auto, max_depth=3, criterion=gini \n"
     ]
    },
    {
     "name": "stderr",
     "output_type": "stream",
     "text": [
      "[Parallel(n_jobs=1)]: Using backend SequentialBackend with 1 concurrent workers.\n"
     ]
    },
    {
     "name": "stdout",
     "output_type": "stream",
     "text": [
      "[CV]  n_estimators=10, min_weight_fraction_leaf=0.0001, min_samples_split=3, min_samples_leaf=3, min_impurity_decrease=0.1, max_leaf_nodes=5, max_features=auto, max_depth=3, criterion=gini, total=   2.4s\n",
      "[CV] n_estimators=10, min_weight_fraction_leaf=0.0001, min_samples_split=3, min_samples_leaf=3, min_impurity_decrease=0.1, max_leaf_nodes=5, max_features=auto, max_depth=3, criterion=gini \n"
     ]
    },
    {
     "name": "stderr",
     "output_type": "stream",
     "text": [
      "[Parallel(n_jobs=1)]: Done   1 out of   1 | elapsed:    2.8s remaining:    0.0s\n"
     ]
    },
    {
     "name": "stdout",
     "output_type": "stream",
     "text": [
      "[CV]  n_estimators=10, min_weight_fraction_leaf=0.0001, min_samples_split=3, min_samples_leaf=3, min_impurity_decrease=0.1, max_leaf_nodes=5, max_features=auto, max_depth=3, criterion=gini, total=   2.4s\n",
      "[CV] n_estimators=10, min_weight_fraction_leaf=0.0001, min_samples_split=3, min_samples_leaf=3, min_impurity_decrease=0.1, max_leaf_nodes=5, max_features=auto, max_depth=3, criterion=gini \n",
      "[CV]  n_estimators=10, min_weight_fraction_leaf=0.0001, min_samples_split=3, min_samples_leaf=3, min_impurity_decrease=0.1, max_leaf_nodes=5, max_features=auto, max_depth=3, criterion=gini, total=   2.3s\n",
      "[CV] n_estimators=10, min_weight_fraction_leaf=0.0001, min_samples_split=3, min_samples_leaf=3, min_impurity_decrease=0.1, max_leaf_nodes=5, max_features=auto, max_depth=3, criterion=gini \n",
      "[CV]  n_estimators=10, min_weight_fraction_leaf=0.0001, min_samples_split=3, min_samples_leaf=3, min_impurity_decrease=0.1, max_leaf_nodes=5, max_features=auto, max_depth=3, criterion=gini, total=   2.4s\n",
      "[CV] n_estimators=10, min_weight_fraction_leaf=0.0001, min_samples_split=3, min_samples_leaf=3, min_impurity_decrease=0.1, max_leaf_nodes=5, max_features=auto, max_depth=3, criterion=gini \n",
      "[CV]  n_estimators=10, min_weight_fraction_leaf=0.0001, min_samples_split=3, min_samples_leaf=3, min_impurity_decrease=0.1, max_leaf_nodes=5, max_features=auto, max_depth=3, criterion=gini, total=   2.3s\n",
      "[CV] n_estimators=10, min_weight_fraction_leaf=0.0001, min_samples_split=3, min_samples_leaf=3, min_impurity_decrease=0.1, max_leaf_nodes=5, max_features=auto, max_depth=3, criterion=gini \n",
      "[CV]  n_estimators=10, min_weight_fraction_leaf=0.0001, min_samples_split=3, min_samples_leaf=3, min_impurity_decrease=0.1, max_leaf_nodes=5, max_features=auto, max_depth=3, criterion=gini, total=   2.4s\n",
      "[CV] n_estimators=10, min_weight_fraction_leaf=0.0001, min_samples_split=3, min_samples_leaf=3, min_impurity_decrease=0.1, max_leaf_nodes=5, max_features=auto, max_depth=3, criterion=gini \n",
      "[CV]  n_estimators=10, min_weight_fraction_leaf=0.0001, min_samples_split=3, min_samples_leaf=3, min_impurity_decrease=0.1, max_leaf_nodes=5, max_features=auto, max_depth=3, criterion=gini, total=   2.3s\n",
      "[CV] n_estimators=10, min_weight_fraction_leaf=0.0001, min_samples_split=3, min_samples_leaf=3, min_impurity_decrease=0.1, max_leaf_nodes=5, max_features=auto, max_depth=3, criterion=gini \n",
      "[CV]  n_estimators=10, min_weight_fraction_leaf=0.0001, min_samples_split=3, min_samples_leaf=3, min_impurity_decrease=0.1, max_leaf_nodes=5, max_features=auto, max_depth=3, criterion=gini, total=   2.3s\n",
      "[CV] n_estimators=10, min_weight_fraction_leaf=0.0001, min_samples_split=3, min_samples_leaf=3, min_impurity_decrease=0.1, max_leaf_nodes=5, max_features=auto, max_depth=3, criterion=gini \n",
      "[CV]  n_estimators=10, min_weight_fraction_leaf=0.0001, min_samples_split=3, min_samples_leaf=3, min_impurity_decrease=0.1, max_leaf_nodes=5, max_features=auto, max_depth=3, criterion=gini, total=   2.5s\n",
      "[CV] n_estimators=10, min_weight_fraction_leaf=0.0001, min_samples_split=3, min_samples_leaf=3, min_impurity_decrease=0.1, max_leaf_nodes=5, max_features=auto, max_depth=3, criterion=gini \n",
      "[CV]  n_estimators=10, min_weight_fraction_leaf=0.0001, min_samples_split=3, min_samples_leaf=3, min_impurity_decrease=0.1, max_leaf_nodes=5, max_features=auto, max_depth=3, criterion=gini, total=   2.6s\n",
      "[CV] n_estimators=10, min_weight_fraction_leaf=0.001, min_samples_split=3, min_samples_leaf=1, min_impurity_decrease=0.001, max_leaf_nodes=7, max_features=log2, max_depth=2, criterion=gini \n",
      "[CV]  n_estimators=10, min_weight_fraction_leaf=0.001, min_samples_split=3, min_samples_leaf=1, min_impurity_decrease=0.001, max_leaf_nodes=7, max_features=log2, max_depth=2, criterion=gini, total=   2.6s\n",
      "[CV] n_estimators=10, min_weight_fraction_leaf=0.001, min_samples_split=3, min_samples_leaf=1, min_impurity_decrease=0.001, max_leaf_nodes=7, max_features=log2, max_depth=2, criterion=gini \n",
      "[CV]  n_estimators=10, min_weight_fraction_leaf=0.001, min_samples_split=3, min_samples_leaf=1, min_impurity_decrease=0.001, max_leaf_nodes=7, max_features=log2, max_depth=2, criterion=gini, total=   2.8s\n",
      "[CV] n_estimators=10, min_weight_fraction_leaf=0.001, min_samples_split=3, min_samples_leaf=1, min_impurity_decrease=0.001, max_leaf_nodes=7, max_features=log2, max_depth=2, criterion=gini \n",
      "[CV]  n_estimators=10, min_weight_fraction_leaf=0.001, min_samples_split=3, min_samples_leaf=1, min_impurity_decrease=0.001, max_leaf_nodes=7, max_features=log2, max_depth=2, criterion=gini, total=   2.8s\n",
      "[CV] n_estimators=10, min_weight_fraction_leaf=0.001, min_samples_split=3, min_samples_leaf=1, min_impurity_decrease=0.001, max_leaf_nodes=7, max_features=log2, max_depth=2, criterion=gini \n",
      "[CV]  n_estimators=10, min_weight_fraction_leaf=0.001, min_samples_split=3, min_samples_leaf=1, min_impurity_decrease=0.001, max_leaf_nodes=7, max_features=log2, max_depth=2, criterion=gini, total=   2.6s\n",
      "[CV] n_estimators=10, min_weight_fraction_leaf=0.001, min_samples_split=3, min_samples_leaf=1, min_impurity_decrease=0.001, max_leaf_nodes=7, max_features=log2, max_depth=2, criterion=gini \n",
      "[CV]  n_estimators=10, min_weight_fraction_leaf=0.001, min_samples_split=3, min_samples_leaf=1, min_impurity_decrease=0.001, max_leaf_nodes=7, max_features=log2, max_depth=2, criterion=gini, total=   2.9s\n",
      "[CV] n_estimators=10, min_weight_fraction_leaf=0.001, min_samples_split=3, min_samples_leaf=1, min_impurity_decrease=0.001, max_leaf_nodes=7, max_features=log2, max_depth=2, criterion=gini \n",
      "[CV]  n_estimators=10, min_weight_fraction_leaf=0.001, min_samples_split=3, min_samples_leaf=1, min_impurity_decrease=0.001, max_leaf_nodes=7, max_features=log2, max_depth=2, criterion=gini, total=   3.0s\n",
      "[CV] n_estimators=10, min_weight_fraction_leaf=0.001, min_samples_split=3, min_samples_leaf=1, min_impurity_decrease=0.001, max_leaf_nodes=7, max_features=log2, max_depth=2, criterion=gini \n",
      "[CV]  n_estimators=10, min_weight_fraction_leaf=0.001, min_samples_split=3, min_samples_leaf=1, min_impurity_decrease=0.001, max_leaf_nodes=7, max_features=log2, max_depth=2, criterion=gini, total=   2.8s\n",
      "[CV] n_estimators=10, min_weight_fraction_leaf=0.001, min_samples_split=3, min_samples_leaf=1, min_impurity_decrease=0.001, max_leaf_nodes=7, max_features=log2, max_depth=2, criterion=gini \n",
      "[CV]  n_estimators=10, min_weight_fraction_leaf=0.001, min_samples_split=3, min_samples_leaf=1, min_impurity_decrease=0.001, max_leaf_nodes=7, max_features=log2, max_depth=2, criterion=gini, total=   2.2s\n",
      "[CV] n_estimators=10, min_weight_fraction_leaf=0.001, min_samples_split=3, min_samples_leaf=1, min_impurity_decrease=0.001, max_leaf_nodes=7, max_features=log2, max_depth=2, criterion=gini \n",
      "[CV]  n_estimators=10, min_weight_fraction_leaf=0.001, min_samples_split=3, min_samples_leaf=1, min_impurity_decrease=0.001, max_leaf_nodes=7, max_features=log2, max_depth=2, criterion=gini, total=   2.8s\n",
      "[CV] n_estimators=10, min_weight_fraction_leaf=0.001, min_samples_split=3, min_samples_leaf=1, min_impurity_decrease=0.001, max_leaf_nodes=7, max_features=log2, max_depth=2, criterion=gini \n",
      "[CV]  n_estimators=10, min_weight_fraction_leaf=0.001, min_samples_split=3, min_samples_leaf=1, min_impurity_decrease=0.001, max_leaf_nodes=7, max_features=log2, max_depth=2, criterion=gini, total=   3.1s\n",
      "[CV] n_estimators=20, min_weight_fraction_leaf=0.0, min_samples_split=5, min_samples_leaf=1, min_impurity_decrease=0.0, max_leaf_nodes=2, max_features=sqrt, max_depth=1, criterion=entropy \n",
      "[CV]  n_estimators=20, min_weight_fraction_leaf=0.0, min_samples_split=5, min_samples_leaf=1, min_impurity_decrease=0.0, max_leaf_nodes=2, max_features=sqrt, max_depth=1, criterion=entropy, total=  13.8s\n",
      "[CV] n_estimators=20, min_weight_fraction_leaf=0.0, min_samples_split=5, min_samples_leaf=1, min_impurity_decrease=0.0, max_leaf_nodes=2, max_features=sqrt, max_depth=1, criterion=entropy \n",
      "[CV]  n_estimators=20, min_weight_fraction_leaf=0.0, min_samples_split=5, min_samples_leaf=1, min_impurity_decrease=0.0, max_leaf_nodes=2, max_features=sqrt, max_depth=1, criterion=entropy, total=  12.4s\n",
      "[CV] n_estimators=20, min_weight_fraction_leaf=0.0, min_samples_split=5, min_samples_leaf=1, min_impurity_decrease=0.0, max_leaf_nodes=2, max_features=sqrt, max_depth=1, criterion=entropy \n"
     ]
    },
    {
     "name": "stdout",
     "output_type": "stream",
     "text": [
      "[CV]  n_estimators=20, min_weight_fraction_leaf=0.0, min_samples_split=5, min_samples_leaf=1, min_impurity_decrease=0.0, max_leaf_nodes=2, max_features=sqrt, max_depth=1, criterion=entropy, total=  12.8s\n",
      "[CV] n_estimators=20, min_weight_fraction_leaf=0.0, min_samples_split=5, min_samples_leaf=1, min_impurity_decrease=0.0, max_leaf_nodes=2, max_features=sqrt, max_depth=1, criterion=entropy \n",
      "[CV]  n_estimators=20, min_weight_fraction_leaf=0.0, min_samples_split=5, min_samples_leaf=1, min_impurity_decrease=0.0, max_leaf_nodes=2, max_features=sqrt, max_depth=1, criterion=entropy, total=  12.2s\n",
      "[CV] n_estimators=20, min_weight_fraction_leaf=0.0, min_samples_split=5, min_samples_leaf=1, min_impurity_decrease=0.0, max_leaf_nodes=2, max_features=sqrt, max_depth=1, criterion=entropy \n",
      "[CV]  n_estimators=20, min_weight_fraction_leaf=0.0, min_samples_split=5, min_samples_leaf=1, min_impurity_decrease=0.0, max_leaf_nodes=2, max_features=sqrt, max_depth=1, criterion=entropy, total=  12.8s\n",
      "[CV] n_estimators=20, min_weight_fraction_leaf=0.0, min_samples_split=5, min_samples_leaf=1, min_impurity_decrease=0.0, max_leaf_nodes=2, max_features=sqrt, max_depth=1, criterion=entropy \n",
      "[CV]  n_estimators=20, min_weight_fraction_leaf=0.0, min_samples_split=5, min_samples_leaf=1, min_impurity_decrease=0.0, max_leaf_nodes=2, max_features=sqrt, max_depth=1, criterion=entropy, total=  14.2s\n",
      "[CV] n_estimators=20, min_weight_fraction_leaf=0.0, min_samples_split=5, min_samples_leaf=1, min_impurity_decrease=0.0, max_leaf_nodes=2, max_features=sqrt, max_depth=1, criterion=entropy \n",
      "[CV]  n_estimators=20, min_weight_fraction_leaf=0.0, min_samples_split=5, min_samples_leaf=1, min_impurity_decrease=0.0, max_leaf_nodes=2, max_features=sqrt, max_depth=1, criterion=entropy, total=  13.4s\n",
      "[CV] n_estimators=20, min_weight_fraction_leaf=0.0, min_samples_split=5, min_samples_leaf=1, min_impurity_decrease=0.0, max_leaf_nodes=2, max_features=sqrt, max_depth=1, criterion=entropy \n",
      "[CV]  n_estimators=20, min_weight_fraction_leaf=0.0, min_samples_split=5, min_samples_leaf=1, min_impurity_decrease=0.0, max_leaf_nodes=2, max_features=sqrt, max_depth=1, criterion=entropy, total=  12.7s\n",
      "[CV] n_estimators=20, min_weight_fraction_leaf=0.0, min_samples_split=5, min_samples_leaf=1, min_impurity_decrease=0.0, max_leaf_nodes=2, max_features=sqrt, max_depth=1, criterion=entropy \n",
      "[CV]  n_estimators=20, min_weight_fraction_leaf=0.0, min_samples_split=5, min_samples_leaf=1, min_impurity_decrease=0.0, max_leaf_nodes=2, max_features=sqrt, max_depth=1, criterion=entropy, total=  13.2s\n",
      "[CV] n_estimators=20, min_weight_fraction_leaf=0.0, min_samples_split=5, min_samples_leaf=1, min_impurity_decrease=0.0, max_leaf_nodes=2, max_features=sqrt, max_depth=1, criterion=entropy \n",
      "[CV]  n_estimators=20, min_weight_fraction_leaf=0.0, min_samples_split=5, min_samples_leaf=1, min_impurity_decrease=0.0, max_leaf_nodes=2, max_features=sqrt, max_depth=1, criterion=entropy, total=  12.5s\n",
      "[CV] n_estimators=60, min_weight_fraction_leaf=0.0, min_samples_split=4, min_samples_leaf=3, min_impurity_decrease=0.1, max_leaf_nodes=9, max_features=auto, max_depth=4, criterion=entropy \n",
      "[CV]  n_estimators=60, min_weight_fraction_leaf=0.0, min_samples_split=4, min_samples_leaf=3, min_impurity_decrease=0.1, max_leaf_nodes=9, max_features=auto, max_depth=4, criterion=entropy, total=  19.5s\n",
      "[CV] n_estimators=60, min_weight_fraction_leaf=0.0, min_samples_split=4, min_samples_leaf=3, min_impurity_decrease=0.1, max_leaf_nodes=9, max_features=auto, max_depth=4, criterion=entropy \n",
      "[CV]  n_estimators=60, min_weight_fraction_leaf=0.0, min_samples_split=4, min_samples_leaf=3, min_impurity_decrease=0.1, max_leaf_nodes=9, max_features=auto, max_depth=4, criterion=entropy, total=  19.6s\n",
      "[CV] n_estimators=60, min_weight_fraction_leaf=0.0, min_samples_split=4, min_samples_leaf=3, min_impurity_decrease=0.1, max_leaf_nodes=9, max_features=auto, max_depth=4, criterion=entropy \n",
      "[CV]  n_estimators=60, min_weight_fraction_leaf=0.0, min_samples_split=4, min_samples_leaf=3, min_impurity_decrease=0.1, max_leaf_nodes=9, max_features=auto, max_depth=4, criterion=entropy, total=  19.5s\n",
      "[CV] n_estimators=60, min_weight_fraction_leaf=0.0, min_samples_split=4, min_samples_leaf=3, min_impurity_decrease=0.1, max_leaf_nodes=9, max_features=auto, max_depth=4, criterion=entropy \n",
      "[CV]  n_estimators=60, min_weight_fraction_leaf=0.0, min_samples_split=4, min_samples_leaf=3, min_impurity_decrease=0.1, max_leaf_nodes=9, max_features=auto, max_depth=4, criterion=entropy, total=  20.2s\n",
      "[CV] n_estimators=60, min_weight_fraction_leaf=0.0, min_samples_split=4, min_samples_leaf=3, min_impurity_decrease=0.1, max_leaf_nodes=9, max_features=auto, max_depth=4, criterion=entropy \n",
      "[CV]  n_estimators=60, min_weight_fraction_leaf=0.0, min_samples_split=4, min_samples_leaf=3, min_impurity_decrease=0.1, max_leaf_nodes=9, max_features=auto, max_depth=4, criterion=entropy, total=  20.3s\n",
      "[CV] n_estimators=60, min_weight_fraction_leaf=0.0, min_samples_split=4, min_samples_leaf=3, min_impurity_decrease=0.1, max_leaf_nodes=9, max_features=auto, max_depth=4, criterion=entropy \n",
      "[CV]  n_estimators=60, min_weight_fraction_leaf=0.0, min_samples_split=4, min_samples_leaf=3, min_impurity_decrease=0.1, max_leaf_nodes=9, max_features=auto, max_depth=4, criterion=entropy, total=  19.9s\n",
      "[CV] n_estimators=60, min_weight_fraction_leaf=0.0, min_samples_split=4, min_samples_leaf=3, min_impurity_decrease=0.1, max_leaf_nodes=9, max_features=auto, max_depth=4, criterion=entropy \n",
      "[CV]  n_estimators=60, min_weight_fraction_leaf=0.0, min_samples_split=4, min_samples_leaf=3, min_impurity_decrease=0.1, max_leaf_nodes=9, max_features=auto, max_depth=4, criterion=entropy, total=  20.3s\n",
      "[CV] n_estimators=60, min_weight_fraction_leaf=0.0, min_samples_split=4, min_samples_leaf=3, min_impurity_decrease=0.1, max_leaf_nodes=9, max_features=auto, max_depth=4, criterion=entropy \n",
      "[CV]  n_estimators=60, min_weight_fraction_leaf=0.0, min_samples_split=4, min_samples_leaf=3, min_impurity_decrease=0.1, max_leaf_nodes=9, max_features=auto, max_depth=4, criterion=entropy, total=  21.7s\n",
      "[CV] n_estimators=60, min_weight_fraction_leaf=0.0, min_samples_split=4, min_samples_leaf=3, min_impurity_decrease=0.1, max_leaf_nodes=9, max_features=auto, max_depth=4, criterion=entropy \n",
      "[CV]  n_estimators=60, min_weight_fraction_leaf=0.0, min_samples_split=4, min_samples_leaf=3, min_impurity_decrease=0.1, max_leaf_nodes=9, max_features=auto, max_depth=4, criterion=entropy, total=  19.6s\n",
      "[CV] n_estimators=60, min_weight_fraction_leaf=0.0, min_samples_split=4, min_samples_leaf=3, min_impurity_decrease=0.1, max_leaf_nodes=9, max_features=auto, max_depth=4, criterion=entropy \n",
      "[CV]  n_estimators=60, min_weight_fraction_leaf=0.0, min_samples_split=4, min_samples_leaf=3, min_impurity_decrease=0.1, max_leaf_nodes=9, max_features=auto, max_depth=4, criterion=entropy, total=  19.4s\n",
      "[CV] n_estimators=20, min_weight_fraction_leaf=0.01, min_samples_split=7, min_samples_leaf=1, min_impurity_decrease=0.01, max_leaf_nodes=3, max_features=None, max_depth=3, criterion=entropy \n",
      "[CV]  n_estimators=20, min_weight_fraction_leaf=0.01, min_samples_split=7, min_samples_leaf=1, min_impurity_decrease=0.01, max_leaf_nodes=3, max_features=None, max_depth=3, criterion=entropy, total=  34.7s\n",
      "[CV] n_estimators=20, min_weight_fraction_leaf=0.01, min_samples_split=7, min_samples_leaf=1, min_impurity_decrease=0.01, max_leaf_nodes=3, max_features=None, max_depth=3, criterion=entropy \n",
      "[CV]  n_estimators=20, min_weight_fraction_leaf=0.01, min_samples_split=7, min_samples_leaf=1, min_impurity_decrease=0.01, max_leaf_nodes=3, max_features=None, max_depth=3, criterion=entropy, total=  33.1s\n",
      "[CV] n_estimators=20, min_weight_fraction_leaf=0.01, min_samples_split=7, min_samples_leaf=1, min_impurity_decrease=0.01, max_leaf_nodes=3, max_features=None, max_depth=3, criterion=entropy \n",
      "[CV]  n_estimators=20, min_weight_fraction_leaf=0.01, min_samples_split=7, min_samples_leaf=1, min_impurity_decrease=0.01, max_leaf_nodes=3, max_features=None, max_depth=3, criterion=entropy, total=  34.6s\n",
      "[CV] n_estimators=20, min_weight_fraction_leaf=0.01, min_samples_split=7, min_samples_leaf=1, min_impurity_decrease=0.01, max_leaf_nodes=3, max_features=None, max_depth=3, criterion=entropy \n"
     ]
    },
    {
     "name": "stdout",
     "output_type": "stream",
     "text": [
      "[CV]  n_estimators=20, min_weight_fraction_leaf=0.01, min_samples_split=7, min_samples_leaf=1, min_impurity_decrease=0.01, max_leaf_nodes=3, max_features=None, max_depth=3, criterion=entropy, total=  34.8s\n",
      "[CV] n_estimators=20, min_weight_fraction_leaf=0.01, min_samples_split=7, min_samples_leaf=1, min_impurity_decrease=0.01, max_leaf_nodes=3, max_features=None, max_depth=3, criterion=entropy \n",
      "[CV]  n_estimators=20, min_weight_fraction_leaf=0.01, min_samples_split=7, min_samples_leaf=1, min_impurity_decrease=0.01, max_leaf_nodes=3, max_features=None, max_depth=3, criterion=entropy, total=  33.1s\n",
      "[CV] n_estimators=20, min_weight_fraction_leaf=0.01, min_samples_split=7, min_samples_leaf=1, min_impurity_decrease=0.01, max_leaf_nodes=3, max_features=None, max_depth=3, criterion=entropy \n",
      "[CV]  n_estimators=20, min_weight_fraction_leaf=0.01, min_samples_split=7, min_samples_leaf=1, min_impurity_decrease=0.01, max_leaf_nodes=3, max_features=None, max_depth=3, criterion=entropy, total=  33.1s\n",
      "[CV] n_estimators=20, min_weight_fraction_leaf=0.01, min_samples_split=7, min_samples_leaf=1, min_impurity_decrease=0.01, max_leaf_nodes=3, max_features=None, max_depth=3, criterion=entropy \n",
      "[CV]  n_estimators=20, min_weight_fraction_leaf=0.01, min_samples_split=7, min_samples_leaf=1, min_impurity_decrease=0.01, max_leaf_nodes=3, max_features=None, max_depth=3, criterion=entropy, total=  35.3s\n",
      "[CV] n_estimators=20, min_weight_fraction_leaf=0.01, min_samples_split=7, min_samples_leaf=1, min_impurity_decrease=0.01, max_leaf_nodes=3, max_features=None, max_depth=3, criterion=entropy \n",
      "[CV]  n_estimators=20, min_weight_fraction_leaf=0.01, min_samples_split=7, min_samples_leaf=1, min_impurity_decrease=0.01, max_leaf_nodes=3, max_features=None, max_depth=3, criterion=entropy, total=  33.6s\n",
      "[CV] n_estimators=20, min_weight_fraction_leaf=0.01, min_samples_split=7, min_samples_leaf=1, min_impurity_decrease=0.01, max_leaf_nodes=3, max_features=None, max_depth=3, criterion=entropy \n",
      "[CV]  n_estimators=20, min_weight_fraction_leaf=0.01, min_samples_split=7, min_samples_leaf=1, min_impurity_decrease=0.01, max_leaf_nodes=3, max_features=None, max_depth=3, criterion=entropy, total=  37.1s\n",
      "[CV] n_estimators=20, min_weight_fraction_leaf=0.01, min_samples_split=7, min_samples_leaf=1, min_impurity_decrease=0.01, max_leaf_nodes=3, max_features=None, max_depth=3, criterion=entropy \n",
      "[CV]  n_estimators=20, min_weight_fraction_leaf=0.01, min_samples_split=7, min_samples_leaf=1, min_impurity_decrease=0.01, max_leaf_nodes=3, max_features=None, max_depth=3, criterion=entropy, total=  33.6s\n",
      "[CV] n_estimators=100, min_weight_fraction_leaf=0.0, min_samples_split=6, min_samples_leaf=2, min_impurity_decrease=0.0, max_leaf_nodes=2, max_features=sqrt, max_depth=3, criterion=gini \n",
      "[CV]  n_estimators=100, min_weight_fraction_leaf=0.0, min_samples_split=6, min_samples_leaf=2, min_impurity_decrease=0.0, max_leaf_nodes=2, max_features=sqrt, max_depth=3, criterion=gini, total=  49.7s\n",
      "[CV] n_estimators=100, min_weight_fraction_leaf=0.0, min_samples_split=6, min_samples_leaf=2, min_impurity_decrease=0.0, max_leaf_nodes=2, max_features=sqrt, max_depth=3, criterion=gini \n",
      "[CV]  n_estimators=100, min_weight_fraction_leaf=0.0, min_samples_split=6, min_samples_leaf=2, min_impurity_decrease=0.0, max_leaf_nodes=2, max_features=sqrt, max_depth=3, criterion=gini, total=  47.0s\n",
      "[CV] n_estimators=100, min_weight_fraction_leaf=0.0, min_samples_split=6, min_samples_leaf=2, min_impurity_decrease=0.0, max_leaf_nodes=2, max_features=sqrt, max_depth=3, criterion=gini \n",
      "[CV]  n_estimators=100, min_weight_fraction_leaf=0.0, min_samples_split=6, min_samples_leaf=2, min_impurity_decrease=0.0, max_leaf_nodes=2, max_features=sqrt, max_depth=3, criterion=gini, total=  47.7s\n",
      "[CV] n_estimators=100, min_weight_fraction_leaf=0.0, min_samples_split=6, min_samples_leaf=2, min_impurity_decrease=0.0, max_leaf_nodes=2, max_features=sqrt, max_depth=3, criterion=gini \n",
      "[CV]  n_estimators=100, min_weight_fraction_leaf=0.0, min_samples_split=6, min_samples_leaf=2, min_impurity_decrease=0.0, max_leaf_nodes=2, max_features=sqrt, max_depth=3, criterion=gini, total=  43.1s\n",
      "[CV] n_estimators=100, min_weight_fraction_leaf=0.0, min_samples_split=6, min_samples_leaf=2, min_impurity_decrease=0.0, max_leaf_nodes=2, max_features=sqrt, max_depth=3, criterion=gini \n",
      "[CV]  n_estimators=100, min_weight_fraction_leaf=0.0, min_samples_split=6, min_samples_leaf=2, min_impurity_decrease=0.0, max_leaf_nodes=2, max_features=sqrt, max_depth=3, criterion=gini, total=  45.8s\n",
      "[CV] n_estimators=100, min_weight_fraction_leaf=0.0, min_samples_split=6, min_samples_leaf=2, min_impurity_decrease=0.0, max_leaf_nodes=2, max_features=sqrt, max_depth=3, criterion=gini \n",
      "[CV]  n_estimators=100, min_weight_fraction_leaf=0.0, min_samples_split=6, min_samples_leaf=2, min_impurity_decrease=0.0, max_leaf_nodes=2, max_features=sqrt, max_depth=3, criterion=gini, total=  42.6s\n",
      "[CV] n_estimators=100, min_weight_fraction_leaf=0.0, min_samples_split=6, min_samples_leaf=2, min_impurity_decrease=0.0, max_leaf_nodes=2, max_features=sqrt, max_depth=3, criterion=gini \n",
      "[CV]  n_estimators=100, min_weight_fraction_leaf=0.0, min_samples_split=6, min_samples_leaf=2, min_impurity_decrease=0.0, max_leaf_nodes=2, max_features=sqrt, max_depth=3, criterion=gini, total=  48.1s\n",
      "[CV] n_estimators=100, min_weight_fraction_leaf=0.0, min_samples_split=6, min_samples_leaf=2, min_impurity_decrease=0.0, max_leaf_nodes=2, max_features=sqrt, max_depth=3, criterion=gini \n",
      "[CV]  n_estimators=100, min_weight_fraction_leaf=0.0, min_samples_split=6, min_samples_leaf=2, min_impurity_decrease=0.0, max_leaf_nodes=2, max_features=sqrt, max_depth=3, criterion=gini, total=  59.5s\n",
      "[CV] n_estimators=100, min_weight_fraction_leaf=0.0, min_samples_split=6, min_samples_leaf=2, min_impurity_decrease=0.0, max_leaf_nodes=2, max_features=sqrt, max_depth=3, criterion=gini \n",
      "[CV]  n_estimators=100, min_weight_fraction_leaf=0.0, min_samples_split=6, min_samples_leaf=2, min_impurity_decrease=0.0, max_leaf_nodes=2, max_features=sqrt, max_depth=3, criterion=gini, total=  46.8s\n",
      "[CV] n_estimators=100, min_weight_fraction_leaf=0.0, min_samples_split=6, min_samples_leaf=2, min_impurity_decrease=0.0, max_leaf_nodes=2, max_features=sqrt, max_depth=3, criterion=gini \n",
      "[CV]  n_estimators=100, min_weight_fraction_leaf=0.0, min_samples_split=6, min_samples_leaf=2, min_impurity_decrease=0.0, max_leaf_nodes=2, max_features=sqrt, max_depth=3, criterion=gini, total=  43.4s\n",
      "[CV] n_estimators=100, min_weight_fraction_leaf=0.001, min_samples_split=7, min_samples_leaf=2, min_impurity_decrease=0.0, max_leaf_nodes=2, max_features=sqrt, max_depth=1, criterion=entropy \n",
      "[CV]  n_estimators=100, min_weight_fraction_leaf=0.001, min_samples_split=7, min_samples_leaf=2, min_impurity_decrease=0.0, max_leaf_nodes=2, max_features=sqrt, max_depth=1, criterion=entropy, total= 1.0min\n",
      "[CV] n_estimators=100, min_weight_fraction_leaf=0.001, min_samples_split=7, min_samples_leaf=2, min_impurity_decrease=0.0, max_leaf_nodes=2, max_features=sqrt, max_depth=1, criterion=entropy \n",
      "[CV]  n_estimators=100, min_weight_fraction_leaf=0.001, min_samples_split=7, min_samples_leaf=2, min_impurity_decrease=0.0, max_leaf_nodes=2, max_features=sqrt, max_depth=1, criterion=entropy, total= 1.0min\n",
      "[CV] n_estimators=100, min_weight_fraction_leaf=0.001, min_samples_split=7, min_samples_leaf=2, min_impurity_decrease=0.0, max_leaf_nodes=2, max_features=sqrt, max_depth=1, criterion=entropy \n",
      "[CV]  n_estimators=100, min_weight_fraction_leaf=0.001, min_samples_split=7, min_samples_leaf=2, min_impurity_decrease=0.0, max_leaf_nodes=2, max_features=sqrt, max_depth=1, criterion=entropy, total= 1.1min\n",
      "[CV] n_estimators=100, min_weight_fraction_leaf=0.001, min_samples_split=7, min_samples_leaf=2, min_impurity_decrease=0.0, max_leaf_nodes=2, max_features=sqrt, max_depth=1, criterion=entropy \n",
      "[CV]  n_estimators=100, min_weight_fraction_leaf=0.001, min_samples_split=7, min_samples_leaf=2, min_impurity_decrease=0.0, max_leaf_nodes=2, max_features=sqrt, max_depth=1, criterion=entropy, total= 1.0min\n",
      "[CV] n_estimators=100, min_weight_fraction_leaf=0.001, min_samples_split=7, min_samples_leaf=2, min_impurity_decrease=0.0, max_leaf_nodes=2, max_features=sqrt, max_depth=1, criterion=entropy \n"
     ]
    },
    {
     "name": "stdout",
     "output_type": "stream",
     "text": [
      "[CV]  n_estimators=100, min_weight_fraction_leaf=0.001, min_samples_split=7, min_samples_leaf=2, min_impurity_decrease=0.0, max_leaf_nodes=2, max_features=sqrt, max_depth=1, criterion=entropy, total= 1.1min\n",
      "[CV] n_estimators=100, min_weight_fraction_leaf=0.001, min_samples_split=7, min_samples_leaf=2, min_impurity_decrease=0.0, max_leaf_nodes=2, max_features=sqrt, max_depth=1, criterion=entropy \n",
      "[CV]  n_estimators=100, min_weight_fraction_leaf=0.001, min_samples_split=7, min_samples_leaf=2, min_impurity_decrease=0.0, max_leaf_nodes=2, max_features=sqrt, max_depth=1, criterion=entropy, total= 1.0min\n",
      "[CV] n_estimators=100, min_weight_fraction_leaf=0.001, min_samples_split=7, min_samples_leaf=2, min_impurity_decrease=0.0, max_leaf_nodes=2, max_features=sqrt, max_depth=1, criterion=entropy \n",
      "[CV]  n_estimators=100, min_weight_fraction_leaf=0.001, min_samples_split=7, min_samples_leaf=2, min_impurity_decrease=0.0, max_leaf_nodes=2, max_features=sqrt, max_depth=1, criterion=entropy, total= 1.0min\n",
      "[CV] n_estimators=100, min_weight_fraction_leaf=0.001, min_samples_split=7, min_samples_leaf=2, min_impurity_decrease=0.0, max_leaf_nodes=2, max_features=sqrt, max_depth=1, criterion=entropy \n",
      "[CV]  n_estimators=100, min_weight_fraction_leaf=0.001, min_samples_split=7, min_samples_leaf=2, min_impurity_decrease=0.0, max_leaf_nodes=2, max_features=sqrt, max_depth=1, criterion=entropy, total= 1.0min\n",
      "[CV] n_estimators=100, min_weight_fraction_leaf=0.001, min_samples_split=7, min_samples_leaf=2, min_impurity_decrease=0.0, max_leaf_nodes=2, max_features=sqrt, max_depth=1, criterion=entropy \n",
      "[CV]  n_estimators=100, min_weight_fraction_leaf=0.001, min_samples_split=7, min_samples_leaf=2, min_impurity_decrease=0.0, max_leaf_nodes=2, max_features=sqrt, max_depth=1, criterion=entropy, total=  59.9s\n",
      "[CV] n_estimators=100, min_weight_fraction_leaf=0.001, min_samples_split=7, min_samples_leaf=2, min_impurity_decrease=0.0, max_leaf_nodes=2, max_features=sqrt, max_depth=1, criterion=entropy \n",
      "[CV]  n_estimators=100, min_weight_fraction_leaf=0.001, min_samples_split=7, min_samples_leaf=2, min_impurity_decrease=0.0, max_leaf_nodes=2, max_features=sqrt, max_depth=1, criterion=entropy, total=  59.7s\n",
      "[CV] n_estimators=10, min_weight_fraction_leaf=0.0, min_samples_split=4, min_samples_leaf=3, min_impurity_decrease=0.001, max_leaf_nodes=None, max_features=None, max_depth=1, criterion=entropy \n",
      "[CV]  n_estimators=10, min_weight_fraction_leaf=0.0, min_samples_split=4, min_samples_leaf=3, min_impurity_decrease=0.001, max_leaf_nodes=None, max_features=None, max_depth=1, criterion=entropy, total=  16.9s\n",
      "[CV] n_estimators=10, min_weight_fraction_leaf=0.0, min_samples_split=4, min_samples_leaf=3, min_impurity_decrease=0.001, max_leaf_nodes=None, max_features=None, max_depth=1, criterion=entropy \n",
      "[CV]  n_estimators=10, min_weight_fraction_leaf=0.0, min_samples_split=4, min_samples_leaf=3, min_impurity_decrease=0.001, max_leaf_nodes=None, max_features=None, max_depth=1, criterion=entropy, total=  16.9s\n",
      "[CV] n_estimators=10, min_weight_fraction_leaf=0.0, min_samples_split=4, min_samples_leaf=3, min_impurity_decrease=0.001, max_leaf_nodes=None, max_features=None, max_depth=1, criterion=entropy \n",
      "[CV]  n_estimators=10, min_weight_fraction_leaf=0.0, min_samples_split=4, min_samples_leaf=3, min_impurity_decrease=0.001, max_leaf_nodes=None, max_features=None, max_depth=1, criterion=entropy, total=  17.0s\n",
      "[CV] n_estimators=10, min_weight_fraction_leaf=0.0, min_samples_split=4, min_samples_leaf=3, min_impurity_decrease=0.001, max_leaf_nodes=None, max_features=None, max_depth=1, criterion=entropy \n",
      "[CV]  n_estimators=10, min_weight_fraction_leaf=0.0, min_samples_split=4, min_samples_leaf=3, min_impurity_decrease=0.001, max_leaf_nodes=None, max_features=None, max_depth=1, criterion=entropy, total=  16.9s\n",
      "[CV] n_estimators=10, min_weight_fraction_leaf=0.0, min_samples_split=4, min_samples_leaf=3, min_impurity_decrease=0.001, max_leaf_nodes=None, max_features=None, max_depth=1, criterion=entropy \n",
      "[CV]  n_estimators=10, min_weight_fraction_leaf=0.0, min_samples_split=4, min_samples_leaf=3, min_impurity_decrease=0.001, max_leaf_nodes=None, max_features=None, max_depth=1, criterion=entropy, total=  16.9s\n",
      "[CV] n_estimators=10, min_weight_fraction_leaf=0.0, min_samples_split=4, min_samples_leaf=3, min_impurity_decrease=0.001, max_leaf_nodes=None, max_features=None, max_depth=1, criterion=entropy \n",
      "[CV]  n_estimators=10, min_weight_fraction_leaf=0.0, min_samples_split=4, min_samples_leaf=3, min_impurity_decrease=0.001, max_leaf_nodes=None, max_features=None, max_depth=1, criterion=entropy, total=  17.0s\n",
      "[CV] n_estimators=10, min_weight_fraction_leaf=0.0, min_samples_split=4, min_samples_leaf=3, min_impurity_decrease=0.001, max_leaf_nodes=None, max_features=None, max_depth=1, criterion=entropy \n",
      "[CV]  n_estimators=10, min_weight_fraction_leaf=0.0, min_samples_split=4, min_samples_leaf=3, min_impurity_decrease=0.001, max_leaf_nodes=None, max_features=None, max_depth=1, criterion=entropy, total=  17.0s\n",
      "[CV] n_estimators=10, min_weight_fraction_leaf=0.0, min_samples_split=4, min_samples_leaf=3, min_impurity_decrease=0.001, max_leaf_nodes=None, max_features=None, max_depth=1, criterion=entropy \n",
      "[CV]  n_estimators=10, min_weight_fraction_leaf=0.0, min_samples_split=4, min_samples_leaf=3, min_impurity_decrease=0.001, max_leaf_nodes=None, max_features=None, max_depth=1, criterion=entropy, total=  16.9s\n",
      "[CV] n_estimators=10, min_weight_fraction_leaf=0.0, min_samples_split=4, min_samples_leaf=3, min_impurity_decrease=0.001, max_leaf_nodes=None, max_features=None, max_depth=1, criterion=entropy \n",
      "[CV]  n_estimators=10, min_weight_fraction_leaf=0.0, min_samples_split=4, min_samples_leaf=3, min_impurity_decrease=0.001, max_leaf_nodes=None, max_features=None, max_depth=1, criterion=entropy, total=  16.9s\n",
      "[CV] n_estimators=10, min_weight_fraction_leaf=0.0, min_samples_split=4, min_samples_leaf=3, min_impurity_decrease=0.001, max_leaf_nodes=None, max_features=None, max_depth=1, criterion=entropy \n",
      "[CV]  n_estimators=10, min_weight_fraction_leaf=0.0, min_samples_split=4, min_samples_leaf=3, min_impurity_decrease=0.001, max_leaf_nodes=None, max_features=None, max_depth=1, criterion=entropy, total=  17.9s\n",
      "[CV] n_estimators=90, min_weight_fraction_leaf=0.01, min_samples_split=2, min_samples_leaf=2, min_impurity_decrease=0.02, max_leaf_nodes=3, max_features=sqrt, max_depth=1, criterion=entropy \n",
      "[CV]  n_estimators=90, min_weight_fraction_leaf=0.01, min_samples_split=2, min_samples_leaf=2, min_impurity_decrease=0.02, max_leaf_nodes=3, max_features=sqrt, max_depth=1, criterion=entropy, total=  28.5s\n",
      "[CV] n_estimators=90, min_weight_fraction_leaf=0.01, min_samples_split=2, min_samples_leaf=2, min_impurity_decrease=0.02, max_leaf_nodes=3, max_features=sqrt, max_depth=1, criterion=entropy \n",
      "[CV]  n_estimators=90, min_weight_fraction_leaf=0.01, min_samples_split=2, min_samples_leaf=2, min_impurity_decrease=0.02, max_leaf_nodes=3, max_features=sqrt, max_depth=1, criterion=entropy, total=  28.5s\n",
      "[CV] n_estimators=90, min_weight_fraction_leaf=0.01, min_samples_split=2, min_samples_leaf=2, min_impurity_decrease=0.02, max_leaf_nodes=3, max_features=sqrt, max_depth=1, criterion=entropy \n",
      "[CV]  n_estimators=90, min_weight_fraction_leaf=0.01, min_samples_split=2, min_samples_leaf=2, min_impurity_decrease=0.02, max_leaf_nodes=3, max_features=sqrt, max_depth=1, criterion=entropy, total=  28.5s\n",
      "[CV] n_estimators=90, min_weight_fraction_leaf=0.01, min_samples_split=2, min_samples_leaf=2, min_impurity_decrease=0.02, max_leaf_nodes=3, max_features=sqrt, max_depth=1, criterion=entropy \n",
      "[CV]  n_estimators=90, min_weight_fraction_leaf=0.01, min_samples_split=2, min_samples_leaf=2, min_impurity_decrease=0.02, max_leaf_nodes=3, max_features=sqrt, max_depth=1, criterion=entropy, total=  28.6s\n",
      "[CV] n_estimators=90, min_weight_fraction_leaf=0.01, min_samples_split=2, min_samples_leaf=2, min_impurity_decrease=0.02, max_leaf_nodes=3, max_features=sqrt, max_depth=1, criterion=entropy \n",
      "[CV]  n_estimators=90, min_weight_fraction_leaf=0.01, min_samples_split=2, min_samples_leaf=2, min_impurity_decrease=0.02, max_leaf_nodes=3, max_features=sqrt, max_depth=1, criterion=entropy, total=  33.5s\n",
      "[CV] n_estimators=90, min_weight_fraction_leaf=0.01, min_samples_split=2, min_samples_leaf=2, min_impurity_decrease=0.02, max_leaf_nodes=3, max_features=sqrt, max_depth=1, criterion=entropy \n"
     ]
    },
    {
     "name": "stdout",
     "output_type": "stream",
     "text": [
      "[CV]  n_estimators=90, min_weight_fraction_leaf=0.01, min_samples_split=2, min_samples_leaf=2, min_impurity_decrease=0.02, max_leaf_nodes=3, max_features=sqrt, max_depth=1, criterion=entropy, total=  29.2s\n",
      "[CV] n_estimators=90, min_weight_fraction_leaf=0.01, min_samples_split=2, min_samples_leaf=2, min_impurity_decrease=0.02, max_leaf_nodes=3, max_features=sqrt, max_depth=1, criterion=entropy \n",
      "[CV]  n_estimators=90, min_weight_fraction_leaf=0.01, min_samples_split=2, min_samples_leaf=2, min_impurity_decrease=0.02, max_leaf_nodes=3, max_features=sqrt, max_depth=1, criterion=entropy, total=  34.0s\n",
      "[CV] n_estimators=90, min_weight_fraction_leaf=0.01, min_samples_split=2, min_samples_leaf=2, min_impurity_decrease=0.02, max_leaf_nodes=3, max_features=sqrt, max_depth=1, criterion=entropy \n",
      "[CV]  n_estimators=90, min_weight_fraction_leaf=0.01, min_samples_split=2, min_samples_leaf=2, min_impurity_decrease=0.02, max_leaf_nodes=3, max_features=sqrt, max_depth=1, criterion=entropy, total=  36.7s\n",
      "[CV] n_estimators=90, min_weight_fraction_leaf=0.01, min_samples_split=2, min_samples_leaf=2, min_impurity_decrease=0.02, max_leaf_nodes=3, max_features=sqrt, max_depth=1, criterion=entropy \n",
      "[CV]  n_estimators=90, min_weight_fraction_leaf=0.01, min_samples_split=2, min_samples_leaf=2, min_impurity_decrease=0.02, max_leaf_nodes=3, max_features=sqrt, max_depth=1, criterion=entropy, total=  28.9s\n",
      "[CV] n_estimators=90, min_weight_fraction_leaf=0.01, min_samples_split=2, min_samples_leaf=2, min_impurity_decrease=0.02, max_leaf_nodes=3, max_features=sqrt, max_depth=1, criterion=entropy \n",
      "[CV]  n_estimators=90, min_weight_fraction_leaf=0.01, min_samples_split=2, min_samples_leaf=2, min_impurity_decrease=0.02, max_leaf_nodes=3, max_features=sqrt, max_depth=1, criterion=entropy, total=  31.0s\n",
      "[CV] n_estimators=70, min_weight_fraction_leaf=0.01, min_samples_split=5, min_samples_leaf=2, min_impurity_decrease=0.1, max_leaf_nodes=3, max_features=sqrt, max_depth=1, criterion=gini \n",
      "[CV]  n_estimators=70, min_weight_fraction_leaf=0.01, min_samples_split=5, min_samples_leaf=2, min_impurity_decrease=0.1, max_leaf_nodes=3, max_features=sqrt, max_depth=1, criterion=gini, total=  16.4s\n",
      "[CV] n_estimators=70, min_weight_fraction_leaf=0.01, min_samples_split=5, min_samples_leaf=2, min_impurity_decrease=0.1, max_leaf_nodes=3, max_features=sqrt, max_depth=1, criterion=gini \n",
      "[CV]  n_estimators=70, min_weight_fraction_leaf=0.01, min_samples_split=5, min_samples_leaf=2, min_impurity_decrease=0.1, max_leaf_nodes=3, max_features=sqrt, max_depth=1, criterion=gini, total=  16.4s\n",
      "[CV] n_estimators=70, min_weight_fraction_leaf=0.01, min_samples_split=5, min_samples_leaf=2, min_impurity_decrease=0.1, max_leaf_nodes=3, max_features=sqrt, max_depth=1, criterion=gini \n",
      "[CV]  n_estimators=70, min_weight_fraction_leaf=0.01, min_samples_split=5, min_samples_leaf=2, min_impurity_decrease=0.1, max_leaf_nodes=3, max_features=sqrt, max_depth=1, criterion=gini, total=  16.2s\n",
      "[CV] n_estimators=70, min_weight_fraction_leaf=0.01, min_samples_split=5, min_samples_leaf=2, min_impurity_decrease=0.1, max_leaf_nodes=3, max_features=sqrt, max_depth=1, criterion=gini \n",
      "[CV]  n_estimators=70, min_weight_fraction_leaf=0.01, min_samples_split=5, min_samples_leaf=2, min_impurity_decrease=0.1, max_leaf_nodes=3, max_features=sqrt, max_depth=1, criterion=gini, total=  16.1s\n",
      "[CV] n_estimators=70, min_weight_fraction_leaf=0.01, min_samples_split=5, min_samples_leaf=2, min_impurity_decrease=0.1, max_leaf_nodes=3, max_features=sqrt, max_depth=1, criterion=gini \n",
      "[CV]  n_estimators=70, min_weight_fraction_leaf=0.01, min_samples_split=5, min_samples_leaf=2, min_impurity_decrease=0.1, max_leaf_nodes=3, max_features=sqrt, max_depth=1, criterion=gini, total=  16.3s\n",
      "[CV] n_estimators=70, min_weight_fraction_leaf=0.01, min_samples_split=5, min_samples_leaf=2, min_impurity_decrease=0.1, max_leaf_nodes=3, max_features=sqrt, max_depth=1, criterion=gini \n",
      "[CV]  n_estimators=70, min_weight_fraction_leaf=0.01, min_samples_split=5, min_samples_leaf=2, min_impurity_decrease=0.1, max_leaf_nodes=3, max_features=sqrt, max_depth=1, criterion=gini, total=  16.1s\n",
      "[CV] n_estimators=70, min_weight_fraction_leaf=0.01, min_samples_split=5, min_samples_leaf=2, min_impurity_decrease=0.1, max_leaf_nodes=3, max_features=sqrt, max_depth=1, criterion=gini \n",
      "[CV]  n_estimators=70, min_weight_fraction_leaf=0.01, min_samples_split=5, min_samples_leaf=2, min_impurity_decrease=0.1, max_leaf_nodes=3, max_features=sqrt, max_depth=1, criterion=gini, total=  16.1s\n",
      "[CV] n_estimators=70, min_weight_fraction_leaf=0.01, min_samples_split=5, min_samples_leaf=2, min_impurity_decrease=0.1, max_leaf_nodes=3, max_features=sqrt, max_depth=1, criterion=gini \n",
      "[CV]  n_estimators=70, min_weight_fraction_leaf=0.01, min_samples_split=5, min_samples_leaf=2, min_impurity_decrease=0.1, max_leaf_nodes=3, max_features=sqrt, max_depth=1, criterion=gini, total=  16.1s\n",
      "[CV] n_estimators=70, min_weight_fraction_leaf=0.01, min_samples_split=5, min_samples_leaf=2, min_impurity_decrease=0.1, max_leaf_nodes=3, max_features=sqrt, max_depth=1, criterion=gini \n",
      "[CV]  n_estimators=70, min_weight_fraction_leaf=0.01, min_samples_split=5, min_samples_leaf=2, min_impurity_decrease=0.1, max_leaf_nodes=3, max_features=sqrt, max_depth=1, criterion=gini, total=  16.3s\n",
      "[CV] n_estimators=70, min_weight_fraction_leaf=0.01, min_samples_split=5, min_samples_leaf=2, min_impurity_decrease=0.1, max_leaf_nodes=3, max_features=sqrt, max_depth=1, criterion=gini \n",
      "[CV]  n_estimators=70, min_weight_fraction_leaf=0.01, min_samples_split=5, min_samples_leaf=2, min_impurity_decrease=0.1, max_leaf_nodes=3, max_features=sqrt, max_depth=1, criterion=gini, total=  16.4s\n"
     ]
    },
    {
     "name": "stderr",
     "output_type": "stream",
     "text": [
      "[Parallel(n_jobs=1)]: Done 100 out of 100 | elapsed: 43.2min finished\n"
     ]
    },
    {
     "data": {
      "text/plain": [
       "RandomizedSearchCV(cv=10, error_score='raise-deprecating',\n",
       "          estimator=RandomForestClassifier(bootstrap=True, class_weight=None, criterion='gini',\n",
       "            max_depth=None, max_features='auto', max_leaf_nodes=None,\n",
       "            min_impurity_decrease=0.0, min_impurity_split=None,\n",
       "            min_samples_leaf=1, min_samples_split=2,\n",
       "            min_weight_fraction_leaf=0.0, n_estimators='warn', n_jobs=None,\n",
       "            oob_score=False, random_state=None, verbose=0,\n",
       "            warm_start=False),\n",
       "          fit_params=None, iid='warn', n_iter=10, n_jobs=None,\n",
       "          param_distributions={'n_estimators': [10, 20, 30, 50, 60, 70, 80, 90, 100], 'criterion': ['gini', 'entropy'], 'max_depth': [None, 1, 2, 3, 4], 'min_samples_split': [2, 3, 4, 5, 6, 7], 'min_samples_leaf': [1, 2, 4, 3], 'min_weight_fraction_leaf': [0.0, 0.01, 0.001, 0.0001], 'max_features': ['auto', 'sqrt', 'log2', None], 'max_leaf_nodes': [None, 2, 3, 5, 7, 9], 'min_impurity_decrease': [0.0, 0.1, 0.01, 0.02, 0.001]},\n",
       "          pre_dispatch='2*n_jobs', random_state=None, refit=True,\n",
       "          return_train_score='warn', scoring=None, verbose=2)"
      ]
     },
     "execution_count": 13,
     "metadata": {},
     "output_type": "execute_result"
    }
   ],
   "source": [
    "RSCV.fit(x_train,y_train)"
   ]
  },
  {
   "cell_type": "code",
   "execution_count": null,
   "metadata": {},
   "outputs": [],
   "source": [
    "#to run this fit() i required 45-50 mins\n"
   ]
  },
  {
   "cell_type": "code",
   "execution_count": 15,
   "metadata": {},
   "outputs": [],
   "source": [
    "y_pred=RSCV.predict(x_test)"
   ]
  },
  {
   "cell_type": "code",
   "execution_count": 17,
   "metadata": {},
   "outputs": [
    {
     "name": "stdout",
     "output_type": "stream",
     "text": [
      "[[71046    36]\n",
      " [   37    83]]\n"
     ]
    }
   ],
   "source": [
    "from sklearn.metrics import accuracy_score,confusion_matrix\n",
    "print(confusion_matrix(y_test,y_pred))"
   ]
  },
  {
   "cell_type": "code",
   "execution_count": 18,
   "metadata": {},
   "outputs": [
    {
     "name": "stdout",
     "output_type": "stream",
     "text": [
      "99.897474790034\n"
     ]
    }
   ],
   "source": [
    "print(accuracy_score(y_test,y_pred)*100)"
   ]
  },
  {
   "cell_type": "code",
   "execution_count": 20,
   "metadata": {},
   "outputs": [
    {
     "data": {
      "text/plain": [
       "{'n_estimators': 10,\n",
       " 'min_weight_fraction_leaf': 0.0,\n",
       " 'min_samples_split': 4,\n",
       " 'min_samples_leaf': 3,\n",
       " 'min_impurity_decrease': 0.001,\n",
       " 'max_leaf_nodes': None,\n",
       " 'max_features': None,\n",
       " 'max_depth': 1,\n",
       " 'criterion': 'entropy'}"
      ]
     },
     "execution_count": 20,
     "metadata": {},
     "output_type": "execute_result"
    }
   ],
   "source": [
    "RSCV.best_params_"
   ]
  },
  {
   "cell_type": "code",
   "execution_count": 29,
   "metadata": {},
   "outputs": [],
   "source": [
    "model1=RandomForestClassifier(n_estimators= 10,min_weight_fraction_leaf= 0.0,min_samples_split=4,min_samples_leaf=3,\n",
    "           min_impurity_decrease= 0.001,max_leaf_nodes= None,max_features=None,max_depth=2,criterion='entropy')"
   ]
  },
  {
   "cell_type": "code",
   "execution_count": null,
   "metadata": {},
   "outputs": [],
   "source": []
  },
  {
   "cell_type": "code",
   "execution_count": 30,
   "metadata": {},
   "outputs": [
    {
     "data": {
      "text/plain": [
       "RandomForestClassifier(bootstrap=True, class_weight=None, criterion='entropy',\n",
       "            max_depth=2, max_features=None, max_leaf_nodes=None,\n",
       "            min_impurity_decrease=0.001, min_impurity_split=None,\n",
       "            min_samples_leaf=3, min_samples_split=4,\n",
       "            min_weight_fraction_leaf=0.0, n_estimators=10, n_jobs=None,\n",
       "            oob_score=False, random_state=None, verbose=0,\n",
       "            warm_start=False)"
      ]
     },
     "execution_count": 30,
     "metadata": {},
     "output_type": "execute_result"
    }
   ],
   "source": [
    "model1.fit(x_train,y_train)"
   ]
  },
  {
   "cell_type": "code",
   "execution_count": null,
   "metadata": {},
   "outputs": [],
   "source": []
  },
  {
   "cell_type": "code",
   "execution_count": 31,
   "metadata": {},
   "outputs": [],
   "source": [
    "y_model1_pred=model1.predict(x_test)"
   ]
  },
  {
   "cell_type": "code",
   "execution_count": null,
   "metadata": {},
   "outputs": [],
   "source": []
  },
  {
   "cell_type": "code",
   "execution_count": 32,
   "metadata": {},
   "outputs": [
    {
     "name": "stdout",
     "output_type": "stream",
     "text": [
      "[[71064    18]\n",
      " [   38    82]]\n",
      "0.9992135052386169\n"
     ]
    }
   ],
   "source": [
    "print(confusion_matrix(y_test,y_model1_pred))\n",
    "print(accuracy_score(y_test,y_model1_pred))"
   ]
  },
  {
   "cell_type": "code",
   "execution_count": null,
   "metadata": {},
   "outputs": [],
   "source": []
  },
  {
   "cell_type": "code",
   "execution_count": 33,
   "metadata": {},
   "outputs": [],
   "source": [
    "l_y_test=pd.DataFrame(y_test,columns=['Class'])"
   ]
  },
  {
   "cell_type": "code",
   "execution_count": null,
   "metadata": {},
   "outputs": [],
   "source": []
  },
  {
   "cell_type": "code",
   "execution_count": 34,
   "metadata": {},
   "outputs": [
    {
     "data": {
      "text/plain": [
       "120"
      ]
     },
     "execution_count": 34,
     "metadata": {},
     "output_type": "execute_result"
    }
   ],
   "source": [
    "len(l_y_test[l_y_test[\"Class\"]==1])"
   ]
  },
  {
   "cell_type": "code",
   "execution_count": null,
   "metadata": {},
   "outputs": [],
   "source": []
  },
  {
   "cell_type": "code",
   "execution_count": null,
   "metadata": {},
   "outputs": [],
   "source": []
  },
  {
   "cell_type": "code",
   "execution_count": null,
   "metadata": {},
   "outputs": [],
   "source": []
  },
  {
   "cell_type": "code",
   "execution_count": null,
   "metadata": {},
   "outputs": [],
   "source": []
  },
  {
   "cell_type": "code",
   "execution_count": null,
   "metadata": {},
   "outputs": [],
   "source": []
  },
  {
   "cell_type": "code",
   "execution_count": null,
   "metadata": {},
   "outputs": [],
   "source": []
  },
  {
   "cell_type": "code",
   "execution_count": null,
   "metadata": {},
   "outputs": [],
   "source": []
  },
  {
   "cell_type": "code",
   "execution_count": null,
   "metadata": {},
   "outputs": [],
   "source": []
  },
  {
   "cell_type": "code",
   "execution_count": null,
   "metadata": {},
   "outputs": [],
   "source": []
  }
 ],
 "metadata": {
  "kernelspec": {
   "display_name": "Python 3",
   "language": "python",
   "name": "python3"
  },
  "language_info": {
   "codemirror_mode": {
    "name": "ipython",
    "version": 3
   },
   "file_extension": ".py",
   "mimetype": "text/x-python",
   "name": "python",
   "nbconvert_exporter": "python",
   "pygments_lexer": "ipython3",
   "version": "3.7.1"
  }
 },
 "nbformat": 4,
 "nbformat_minor": 2
}
